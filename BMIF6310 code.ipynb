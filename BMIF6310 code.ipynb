{
 "cells": [
  {
   "cell_type": "code",
   "execution_count": 1,
   "metadata": {},
   "outputs": [],
   "source": [
    "#import all your packages\n",
    "import numpy as np\n",
    "from sklearn import preprocessing\n",
    "import matplotlib.pyplot as plt\n",
    "import seaborn as sns\n",
    "import pandas as pd\n",
    "import scipy as sp\n",
    "import numba\n",
    "import os\n",
    "import warnings\n",
    "warnings.filterwarnings('ignore')\n",
    "import umap\n",
    "reducer = umap.UMAP()"
   ]
  },
  {
   "cell_type": "code",
   "execution_count": 2,
   "metadata": {},
   "outputs": [],
   "source": [
    "#set the style and size of figures produced\n",
    "sns.set(style='white', context='notebook', rc={'figure.figsize':(5,5)})"
   ]
  },
  {
   "cell_type": "code",
   "execution_count": 3,
   "metadata": {},
   "outputs": [],
   "source": [
    "#set the path where your files are\n",
    "path = \"/Users/Caroline/Desktop/BMIF6310 project\"\n",
    "os.chdir(path)"
   ]
  },
  {
   "cell_type": "code",
   "execution_count": 4,
   "metadata": {},
   "outputs": [
    {
     "name": "stdout",
     "output_type": "stream",
     "text": [
      "            Surface\n",
      "0          89Y_CD45\n",
      "1        142Ce_CD19\n",
      "2     145Nd_CD4 (v)\n",
      "3    146Nd_CD8a (v)\n",
      "4        148Sm_CD14\n",
      "5         170Yb_CD3\n",
      "6  174Yb_HLA-DR (v)\n",
      "7    209Bi_CD16 (v)\n"
     ]
    }
   ],
   "source": [
    "#indicate which CSV file contains your panel and parameters for UMAP and clustering\n",
    "csv_file_surface = \"panel.csv\"\n",
    "panel = pd.read_csv(csv_file_surface)\n",
    "panel = panel.drop(panel.columns[1], axis=1,)\n",
    "print(panel)"
   ]
  },
  {
   "cell_type": "code",
   "execution_count": 5,
   "metadata": {},
   "outputs": [
    {
     "data": {
      "text/html": [
       "<div>\n",
       "<style scoped>\n",
       "    .dataframe tbody tr th:only-of-type {\n",
       "        vertical-align: middle;\n",
       "    }\n",
       "\n",
       "    .dataframe tbody tr th {\n",
       "        vertical-align: top;\n",
       "    }\n",
       "\n",
       "    .dataframe thead th {\n",
       "        text-align: right;\n",
       "    }\n",
       "</style>\n",
       "<table border=\"1\" class=\"dataframe\">\n",
       "  <thead>\n",
       "    <tr style=\"text-align: right;\">\n",
       "      <th></th>\n",
       "      <th>Time</th>\n",
       "      <th>Event_length</th>\n",
       "      <th>75As</th>\n",
       "      <th>89Y_CD45</th>\n",
       "      <th>103Rh_Rh</th>\n",
       "      <th>138Ba_barium</th>\n",
       "      <th>139La</th>\n",
       "      <th>140Ce</th>\n",
       "      <th>141Pr</th>\n",
       "      <th>142Ce_CD19</th>\n",
       "      <th>...</th>\n",
       "      <th>209Bi_CD16 (v)</th>\n",
       "      <th>Center</th>\n",
       "      <th>Offset</th>\n",
       "      <th>Width</th>\n",
       "      <th>Residual</th>\n",
       "      <th>tSNE1</th>\n",
       "      <th>tSNE2</th>\n",
       "      <th>UMAP1</th>\n",
       "      <th>UMAP2</th>\n",
       "      <th>cluster</th>\n",
       "    </tr>\n",
       "    <tr>\n",
       "      <th>Event #</th>\n",
       "      <th></th>\n",
       "      <th></th>\n",
       "      <th></th>\n",
       "      <th></th>\n",
       "      <th></th>\n",
       "      <th></th>\n",
       "      <th></th>\n",
       "      <th></th>\n",
       "      <th></th>\n",
       "      <th></th>\n",
       "      <th></th>\n",
       "      <th></th>\n",
       "      <th></th>\n",
       "      <th></th>\n",
       "      <th></th>\n",
       "      <th></th>\n",
       "      <th></th>\n",
       "      <th></th>\n",
       "      <th></th>\n",
       "      <th></th>\n",
       "      <th></th>\n",
       "    </tr>\n",
       "  </thead>\n",
       "  <tbody>\n",
       "    <tr>\n",
       "      <th>1</th>\n",
       "      <td>100038.4531</td>\n",
       "      <td>25</td>\n",
       "      <td>0.0</td>\n",
       "      <td>575.513062</td>\n",
       "      <td>1.260524</td>\n",
       "      <td>58.273037</td>\n",
       "      <td>0.000000</td>\n",
       "      <td>0.000000</td>\n",
       "      <td>0.134559</td>\n",
       "      <td>181.093765</td>\n",
       "      <td>...</td>\n",
       "      <td>0.000000</td>\n",
       "      <td>889.348999</td>\n",
       "      <td>95.940002</td>\n",
       "      <td>71.580002</td>\n",
       "      <td>113.392998</td>\n",
       "      <td>-92.772690</td>\n",
       "      <td>59.686779</td>\n",
       "      <td>9.929104</td>\n",
       "      <td>10.267679</td>\n",
       "      <td>1</td>\n",
       "    </tr>\n",
       "    <tr>\n",
       "      <th>2</th>\n",
       "      <td>100046.3438</td>\n",
       "      <td>17</td>\n",
       "      <td>0.0</td>\n",
       "      <td>106.572922</td>\n",
       "      <td>3.601627</td>\n",
       "      <td>60.473598</td>\n",
       "      <td>2.311358</td>\n",
       "      <td>0.000000</td>\n",
       "      <td>0.000000</td>\n",
       "      <td>0.000000</td>\n",
       "      <td>...</td>\n",
       "      <td>132.189987</td>\n",
       "      <td>645.778015</td>\n",
       "      <td>90.635002</td>\n",
       "      <td>45.831001</td>\n",
       "      <td>82.169998</td>\n",
       "      <td>4.894042</td>\n",
       "      <td>104.412270</td>\n",
       "      <td>6.351114</td>\n",
       "      <td>-7.294892</td>\n",
       "      <td>4</td>\n",
       "    </tr>\n",
       "    <tr>\n",
       "      <th>3</th>\n",
       "      <td>100065.6875</td>\n",
       "      <td>18</td>\n",
       "      <td>0.0</td>\n",
       "      <td>330.481781</td>\n",
       "      <td>0.000000</td>\n",
       "      <td>70.945312</td>\n",
       "      <td>3.729413</td>\n",
       "      <td>0.000000</td>\n",
       "      <td>0.000000</td>\n",
       "      <td>0.000000</td>\n",
       "      <td>...</td>\n",
       "      <td>51.104691</td>\n",
       "      <td>683.374023</td>\n",
       "      <td>95.511002</td>\n",
       "      <td>50.980999</td>\n",
       "      <td>76.592003</td>\n",
       "      <td>53.835186</td>\n",
       "      <td>82.105911</td>\n",
       "      <td>7.446544</td>\n",
       "      <td>-4.803083</td>\n",
       "      <td>4</td>\n",
       "    </tr>\n",
       "    <tr>\n",
       "      <th>4</th>\n",
       "      <td>100071.6797</td>\n",
       "      <td>21</td>\n",
       "      <td>0.0</td>\n",
       "      <td>401.245361</td>\n",
       "      <td>0.000000</td>\n",
       "      <td>55.678341</td>\n",
       "      <td>0.000000</td>\n",
       "      <td>0.016739</td>\n",
       "      <td>0.000000</td>\n",
       "      <td>0.234581</td>\n",
       "      <td>...</td>\n",
       "      <td>0.423719</td>\n",
       "      <td>718.971985</td>\n",
       "      <td>98.165001</td>\n",
       "      <td>60.991001</td>\n",
       "      <td>69.485001</td>\n",
       "      <td>-53.369854</td>\n",
       "      <td>-42.082760</td>\n",
       "      <td>-0.489216</td>\n",
       "      <td>-11.392115</td>\n",
       "      <td>9</td>\n",
       "    </tr>\n",
       "    <tr>\n",
       "      <th>5</th>\n",
       "      <td>100174.7266</td>\n",
       "      <td>20</td>\n",
       "      <td>0.0</td>\n",
       "      <td>539.095093</td>\n",
       "      <td>0.552271</td>\n",
       "      <td>53.094040</td>\n",
       "      <td>0.000000</td>\n",
       "      <td>0.000000</td>\n",
       "      <td>0.000000</td>\n",
       "      <td>0.000000</td>\n",
       "      <td>...</td>\n",
       "      <td>0.000000</td>\n",
       "      <td>674.202026</td>\n",
       "      <td>89.085999</td>\n",
       "      <td>52.969002</td>\n",
       "      <td>92.703003</td>\n",
       "      <td>-73.922104</td>\n",
       "      <td>-89.805672</td>\n",
       "      <td>-0.972254</td>\n",
       "      <td>-13.189031</td>\n",
       "      <td>9</td>\n",
       "    </tr>\n",
       "  </tbody>\n",
       "</table>\n",
       "<p>5 rows × 59 columns</p>\n",
       "</div>"
      ],
      "text/plain": [
       "                Time  Event_length  75As    89Y_CD45  103Rh_Rh  138Ba_barium  \\\n",
       "Event #                                                                        \n",
       "1        100038.4531            25   0.0  575.513062  1.260524     58.273037   \n",
       "2        100046.3438            17   0.0  106.572922  3.601627     60.473598   \n",
       "3        100065.6875            18   0.0  330.481781  0.000000     70.945312   \n",
       "4        100071.6797            21   0.0  401.245361  0.000000     55.678341   \n",
       "5        100174.7266            20   0.0  539.095093  0.552271     53.094040   \n",
       "\n",
       "            139La     140Ce     141Pr  142Ce_CD19  ...  209Bi_CD16 (v)  \\\n",
       "Event #                                            ...                   \n",
       "1        0.000000  0.000000  0.134559  181.093765  ...        0.000000   \n",
       "2        2.311358  0.000000  0.000000    0.000000  ...      132.189987   \n",
       "3        3.729413  0.000000  0.000000    0.000000  ...       51.104691   \n",
       "4        0.000000  0.016739  0.000000    0.234581  ...        0.423719   \n",
       "5        0.000000  0.000000  0.000000    0.000000  ...        0.000000   \n",
       "\n",
       "             Center     Offset      Width    Residual      tSNE1       tSNE2  \\\n",
       "Event #                                                                        \n",
       "1        889.348999  95.940002  71.580002  113.392998 -92.772690   59.686779   \n",
       "2        645.778015  90.635002  45.831001   82.169998   4.894042  104.412270   \n",
       "3        683.374023  95.511002  50.980999   76.592003  53.835186   82.105911   \n",
       "4        718.971985  98.165001  60.991001   69.485001 -53.369854  -42.082760   \n",
       "5        674.202026  89.085999  52.969002   92.703003 -73.922104  -89.805672   \n",
       "\n",
       "            UMAP1      UMAP2  cluster  \n",
       "Event #                                \n",
       "1        9.929104  10.267679        1  \n",
       "2        6.351114  -7.294892        4  \n",
       "3        7.446544  -4.803083        4  \n",
       "4       -0.489216 -11.392115        9  \n",
       "5       -0.972254 -13.189031        9  \n",
       "\n",
       "[5 rows x 59 columns]"
      ]
     },
     "execution_count": 5,
     "metadata": {},
     "output_type": "execute_result"
    }
   ],
   "source": [
    "#Read in your experimental CSV file\n",
    "csv_file = \"data file.csv\"\n",
    "dat_full = pd.read_csv(csv_file, header = 1, index_col = 0)\n",
    "dat_full.head()"
   ]
  },
  {
   "cell_type": "code",
   "execution_count": 6,
   "metadata": {},
   "outputs": [],
   "source": [
    "#Transform you data. For mass cytometry, this is an arcsinh transformation, cofactor of 5\n",
    "from sklearn import preprocessing\n",
    "df=np.arcsinh(dat_full/5)\n",
    "\n",
    "#names=df.columns\n",
    "#scaler = preprocessing.StandardScaler()\n",
    "#scaled_df = scaler.fit_transform(df)\n",
    "#scaled_df = pd.DataFrame(scaled_df, columns=names)"
   ]
  },
  {
   "cell_type": "code",
   "execution_count": 7,
   "metadata": {},
   "outputs": [],
   "source": [
    "#Select a subset of data for clustering, and save this as a CSV\n",
    "dat_subset = df.iloc[0:8000]\n",
    "dat_subset.index.name='index'\n",
    "dat_subset.to_csv(\"sample file.csv\")"
   ]
  },
  {
   "cell_type": "code",
   "execution_count": 8,
   "metadata": {},
   "outputs": [
    {
     "data": {
      "text/html": [
       "<div>\n",
       "<style scoped>\n",
       "    .dataframe tbody tr th:only-of-type {\n",
       "        vertical-align: middle;\n",
       "    }\n",
       "\n",
       "    .dataframe tbody tr th {\n",
       "        vertical-align: top;\n",
       "    }\n",
       "\n",
       "    .dataframe thead th {\n",
       "        text-align: right;\n",
       "    }\n",
       "</style>\n",
       "<table border=\"1\" class=\"dataframe\">\n",
       "  <thead>\n",
       "    <tr style=\"text-align: right;\">\n",
       "      <th></th>\n",
       "      <th>89Y_CD45</th>\n",
       "      <th>142Ce_CD19</th>\n",
       "      <th>145Nd_CD4 (v)</th>\n",
       "      <th>146Nd_CD8a (v)</th>\n",
       "      <th>148Sm_CD14</th>\n",
       "      <th>170Yb_CD3</th>\n",
       "      <th>174Yb_HLA-DR (v)</th>\n",
       "      <th>209Bi_CD16 (v)</th>\n",
       "    </tr>\n",
       "    <tr>\n",
       "      <th>index</th>\n",
       "      <th></th>\n",
       "      <th></th>\n",
       "      <th></th>\n",
       "      <th></th>\n",
       "      <th></th>\n",
       "      <th></th>\n",
       "      <th></th>\n",
       "      <th></th>\n",
       "    </tr>\n",
       "  </thead>\n",
       "  <tbody>\n",
       "    <tr>\n",
       "      <th>1</th>\n",
       "      <td>7.048410</td>\n",
       "      <td>5.892170</td>\n",
       "      <td>0.485085</td>\n",
       "      <td>0.000000</td>\n",
       "      <td>0.000000</td>\n",
       "      <td>0.000000</td>\n",
       "      <td>7.111999</td>\n",
       "      <td>0.000000</td>\n",
       "    </tr>\n",
       "    <tr>\n",
       "      <th>2</th>\n",
       "      <td>5.361999</td>\n",
       "      <td>0.000000</td>\n",
       "      <td>0.000000</td>\n",
       "      <td>3.753984</td>\n",
       "      <td>0.000000</td>\n",
       "      <td>0.000000</td>\n",
       "      <td>0.000000</td>\n",
       "      <td>5.577402</td>\n",
       "    </tr>\n",
       "    <tr>\n",
       "      <th>3</th>\n",
       "      <td>6.493701</td>\n",
       "      <td>0.000000</td>\n",
       "      <td>0.000000</td>\n",
       "      <td>1.492518</td>\n",
       "      <td>0.000000</td>\n",
       "      <td>2.673159</td>\n",
       "      <td>0.000000</td>\n",
       "      <td>4.627119</td>\n",
       "    </tr>\n",
       "    <tr>\n",
       "      <th>4</th>\n",
       "      <td>6.687722</td>\n",
       "      <td>0.232481</td>\n",
       "      <td>2.205979</td>\n",
       "      <td>6.447762</td>\n",
       "      <td>0.179422</td>\n",
       "      <td>4.660582</td>\n",
       "      <td>1.483036</td>\n",
       "      <td>0.411967</td>\n",
       "    </tr>\n",
       "    <tr>\n",
       "      <th>5</th>\n",
       "      <td>6.983040</td>\n",
       "      <td>0.000000</td>\n",
       "      <td>0.000000</td>\n",
       "      <td>6.622299</td>\n",
       "      <td>0.000000</td>\n",
       "      <td>5.356152</td>\n",
       "      <td>0.000000</td>\n",
       "      <td>0.000000</td>\n",
       "    </tr>\n",
       "  </tbody>\n",
       "</table>\n",
       "</div>"
      ],
      "text/plain": [
       "       89Y_CD45  142Ce_CD19  145Nd_CD4 (v)  146Nd_CD8a (v)  148Sm_CD14  \\\n",
       "index                                                                    \n",
       "1      7.048410    5.892170       0.485085        0.000000    0.000000   \n",
       "2      5.361999    0.000000       0.000000        3.753984    0.000000   \n",
       "3      6.493701    0.000000       0.000000        1.492518    0.000000   \n",
       "4      6.687722    0.232481       2.205979        6.447762    0.179422   \n",
       "5      6.983040    0.000000       0.000000        6.622299    0.000000   \n",
       "\n",
       "       170Yb_CD3  174Yb_HLA-DR (v)  209Bi_CD16 (v)  \n",
       "index                                               \n",
       "1       0.000000          7.111999        0.000000  \n",
       "2       0.000000          0.000000        5.577402  \n",
       "3       2.673159          0.000000        4.627119  \n",
       "4       4.660582          1.483036        0.411967  \n",
       "5       5.356152          0.000000        0.000000  "
      ]
     },
     "execution_count": 8,
     "metadata": {},
     "output_type": "execute_result"
    }
   ],
   "source": [
    "#Create a data object that is your subset, vs. the parameters you will be running UMAP on\n",
    "dat = dat_subset[panel['Surface']]\n",
    "dat.head()"
   ]
  },
  {
   "cell_type": "code",
   "execution_count": 9,
   "metadata": {
    "scrolled": true
   },
   "outputs": [
    {
     "data": {
      "text/plain": [
       "array([[ 11.213107 ,  13.8035345],\n",
       "       [  7.7932243,  -7.897661 ],\n",
       "       [  8.87931  ,  -7.5367813],\n",
       "       ...,\n",
       "       [ -5.1013904, -11.962317 ],\n",
       "       [ -6.887137 ,   2.9181068],\n",
       "       [ 10.175254 ,  -4.601942 ]], dtype=float32)"
      ]
     },
     "execution_count": 9,
     "metadata": {},
     "output_type": "execute_result"
    }
   ],
   "source": [
    "#run UMAP \n",
    "run_umap = umap.UMAP(n_neighbors=30,min_dist=0.1, n_components=2, metric='euclidean').fit_transform(dat)\n",
    "run_umap"
   ]
  },
  {
   "cell_type": "code",
   "execution_count": 10,
   "metadata": {},
   "outputs": [
    {
     "data": {
      "text/html": [
       "<div>\n",
       "<style scoped>\n",
       "    .dataframe tbody tr th:only-of-type {\n",
       "        vertical-align: middle;\n",
       "    }\n",
       "\n",
       "    .dataframe tbody tr th {\n",
       "        vertical-align: top;\n",
       "    }\n",
       "\n",
       "    .dataframe thead th {\n",
       "        text-align: right;\n",
       "    }\n",
       "</style>\n",
       "<table border=\"1\" class=\"dataframe\">\n",
       "  <thead>\n",
       "    <tr style=\"text-align: right;\">\n",
       "      <th></th>\n",
       "      <th>0</th>\n",
       "      <th>1</th>\n",
       "    </tr>\n",
       "    <tr>\n",
       "      <th>index</th>\n",
       "      <th></th>\n",
       "      <th></th>\n",
       "    </tr>\n",
       "  </thead>\n",
       "  <tbody>\n",
       "    <tr>\n",
       "      <th>1</th>\n",
       "      <td>11.213107</td>\n",
       "      <td>13.803534</td>\n",
       "    </tr>\n",
       "    <tr>\n",
       "      <th>2</th>\n",
       "      <td>7.793224</td>\n",
       "      <td>-7.897661</td>\n",
       "    </tr>\n",
       "    <tr>\n",
       "      <th>3</th>\n",
       "      <td>8.879310</td>\n",
       "      <td>-7.536781</td>\n",
       "    </tr>\n",
       "    <tr>\n",
       "      <th>4</th>\n",
       "      <td>-4.454239</td>\n",
       "      <td>-12.202549</td>\n",
       "    </tr>\n",
       "    <tr>\n",
       "      <th>5</th>\n",
       "      <td>-3.665200</td>\n",
       "      <td>-13.569514</td>\n",
       "    </tr>\n",
       "  </tbody>\n",
       "</table>\n",
       "</div>"
      ],
      "text/plain": [
       "               0          1\n",
       "index                      \n",
       "1      11.213107  13.803534\n",
       "2       7.793224  -7.897661\n",
       "3       8.879310  -7.536781\n",
       "4      -4.454239 -12.202549\n",
       "5      -3.665200 -13.569514"
      ]
     },
     "execution_count": 10,
     "metadata": {},
     "output_type": "execute_result"
    }
   ],
   "source": [
    "#generate array of your UMAP values\n",
    "dat_umap = pd.DataFrame(run_umap)\n",
    "#dat_umap.index=dat_umap+1\n",
    "dat_umap.index+=1;dat_umap.index.name='index'\n",
    "dat_umap.to_csv(\"umap axes.csv\")\n",
    "dat_umap = pd.read_csv(\"umap axes.csv\", header = 0, index_col = 0)\n",
    "dat_umap.head()"
   ]
  },
  {
   "cell_type": "code",
   "execution_count": 11,
   "metadata": {},
   "outputs": [
    {
     "data": {
      "text/html": [
       "<div>\n",
       "<style scoped>\n",
       "    .dataframe tbody tr th:only-of-type {\n",
       "        vertical-align: middle;\n",
       "    }\n",
       "\n",
       "    .dataframe tbody tr th {\n",
       "        vertical-align: top;\n",
       "    }\n",
       "\n",
       "    .dataframe thead th {\n",
       "        text-align: right;\n",
       "    }\n",
       "</style>\n",
       "<table border=\"1\" class=\"dataframe\">\n",
       "  <thead>\n",
       "    <tr style=\"text-align: right;\">\n",
       "      <th></th>\n",
       "      <th>umap1</th>\n",
       "      <th>umap2</th>\n",
       "    </tr>\n",
       "    <tr>\n",
       "      <th>index</th>\n",
       "      <th></th>\n",
       "      <th></th>\n",
       "    </tr>\n",
       "  </thead>\n",
       "  <tbody>\n",
       "    <tr>\n",
       "      <th>1</th>\n",
       "      <td>11.213107</td>\n",
       "      <td>13.803534</td>\n",
       "    </tr>\n",
       "    <tr>\n",
       "      <th>2</th>\n",
       "      <td>7.793224</td>\n",
       "      <td>-7.897661</td>\n",
       "    </tr>\n",
       "    <tr>\n",
       "      <th>3</th>\n",
       "      <td>8.879310</td>\n",
       "      <td>-7.536781</td>\n",
       "    </tr>\n",
       "    <tr>\n",
       "      <th>4</th>\n",
       "      <td>-4.454239</td>\n",
       "      <td>-12.202549</td>\n",
       "    </tr>\n",
       "    <tr>\n",
       "      <th>5</th>\n",
       "      <td>-3.665200</td>\n",
       "      <td>-13.569514</td>\n",
       "    </tr>\n",
       "  </tbody>\n",
       "</table>\n",
       "</div>"
      ],
      "text/plain": [
       "           umap1      umap2\n",
       "index                      \n",
       "1      11.213107  13.803534\n",
       "2       7.793224  -7.897661\n",
       "3       8.879310  -7.536781\n",
       "4      -4.454239 -12.202549\n",
       "5      -3.665200 -13.569514"
      ]
     },
     "execution_count": 11,
     "metadata": {},
     "output_type": "execute_result"
    }
   ],
   "source": [
    "dat_umap.columns = [\"umap1\", \"umap2\"]\n",
    "dat_umap.head()"
   ]
  },
  {
   "cell_type": "code",
   "execution_count": 12,
   "metadata": {},
   "outputs": [
    {
     "data": {
      "text/html": [
       "<div>\n",
       "<style scoped>\n",
       "    .dataframe tbody tr th:only-of-type {\n",
       "        vertical-align: middle;\n",
       "    }\n",
       "\n",
       "    .dataframe tbody tr th {\n",
       "        vertical-align: top;\n",
       "    }\n",
       "\n",
       "    .dataframe thead th {\n",
       "        text-align: right;\n",
       "    }\n",
       "</style>\n",
       "<table border=\"1\" class=\"dataframe\">\n",
       "  <thead>\n",
       "    <tr style=\"text-align: right;\">\n",
       "      <th></th>\n",
       "      <th>89Y_CD45</th>\n",
       "      <th>142Ce_CD19</th>\n",
       "      <th>145Nd_CD4 (v)</th>\n",
       "      <th>146Nd_CD8a (v)</th>\n",
       "      <th>148Sm_CD14</th>\n",
       "      <th>170Yb_CD3</th>\n",
       "      <th>174Yb_HLA-DR (v)</th>\n",
       "      <th>209Bi_CD16 (v)</th>\n",
       "      <th>umap1</th>\n",
       "      <th>umap2</th>\n",
       "    </tr>\n",
       "    <tr>\n",
       "      <th>index</th>\n",
       "      <th></th>\n",
       "      <th></th>\n",
       "      <th></th>\n",
       "      <th></th>\n",
       "      <th></th>\n",
       "      <th></th>\n",
       "      <th></th>\n",
       "      <th></th>\n",
       "      <th></th>\n",
       "      <th></th>\n",
       "    </tr>\n",
       "  </thead>\n",
       "  <tbody>\n",
       "    <tr>\n",
       "      <th>1</th>\n",
       "      <td>7.048410</td>\n",
       "      <td>5.892170</td>\n",
       "      <td>0.485085</td>\n",
       "      <td>0.000000</td>\n",
       "      <td>0.000000</td>\n",
       "      <td>0.000000</td>\n",
       "      <td>7.111999</td>\n",
       "      <td>0.000000</td>\n",
       "      <td>11.213107</td>\n",
       "      <td>13.803534</td>\n",
       "    </tr>\n",
       "    <tr>\n",
       "      <th>2</th>\n",
       "      <td>5.361999</td>\n",
       "      <td>0.000000</td>\n",
       "      <td>0.000000</td>\n",
       "      <td>3.753984</td>\n",
       "      <td>0.000000</td>\n",
       "      <td>0.000000</td>\n",
       "      <td>0.000000</td>\n",
       "      <td>5.577402</td>\n",
       "      <td>7.793224</td>\n",
       "      <td>-7.897661</td>\n",
       "    </tr>\n",
       "    <tr>\n",
       "      <th>3</th>\n",
       "      <td>6.493701</td>\n",
       "      <td>0.000000</td>\n",
       "      <td>0.000000</td>\n",
       "      <td>1.492518</td>\n",
       "      <td>0.000000</td>\n",
       "      <td>2.673159</td>\n",
       "      <td>0.000000</td>\n",
       "      <td>4.627119</td>\n",
       "      <td>8.879310</td>\n",
       "      <td>-7.536781</td>\n",
       "    </tr>\n",
       "    <tr>\n",
       "      <th>4</th>\n",
       "      <td>6.687722</td>\n",
       "      <td>0.232481</td>\n",
       "      <td>2.205979</td>\n",
       "      <td>6.447762</td>\n",
       "      <td>0.179422</td>\n",
       "      <td>4.660582</td>\n",
       "      <td>1.483036</td>\n",
       "      <td>0.411967</td>\n",
       "      <td>-4.454239</td>\n",
       "      <td>-12.202549</td>\n",
       "    </tr>\n",
       "    <tr>\n",
       "      <th>5</th>\n",
       "      <td>6.983040</td>\n",
       "      <td>0.000000</td>\n",
       "      <td>0.000000</td>\n",
       "      <td>6.622299</td>\n",
       "      <td>0.000000</td>\n",
       "      <td>5.356152</td>\n",
       "      <td>0.000000</td>\n",
       "      <td>0.000000</td>\n",
       "      <td>-3.665200</td>\n",
       "      <td>-13.569514</td>\n",
       "    </tr>\n",
       "  </tbody>\n",
       "</table>\n",
       "</div>"
      ],
      "text/plain": [
       "       89Y_CD45  142Ce_CD19  145Nd_CD4 (v)  146Nd_CD8a (v)  148Sm_CD14  \\\n",
       "index                                                                    \n",
       "1      7.048410    5.892170       0.485085        0.000000    0.000000   \n",
       "2      5.361999    0.000000       0.000000        3.753984    0.000000   \n",
       "3      6.493701    0.000000       0.000000        1.492518    0.000000   \n",
       "4      6.687722    0.232481       2.205979        6.447762    0.179422   \n",
       "5      6.983040    0.000000       0.000000        6.622299    0.000000   \n",
       "\n",
       "       170Yb_CD3  174Yb_HLA-DR (v)  209Bi_CD16 (v)      umap1      umap2  \n",
       "index                                                                     \n",
       "1       0.000000          7.111999        0.000000  11.213107  13.803534  \n",
       "2       0.000000          0.000000        5.577402   7.793224  -7.897661  \n",
       "3       2.673159          0.000000        4.627119   8.879310  -7.536781  \n",
       "4       4.660582          1.483036        0.411967  -4.454239 -12.202549  \n",
       "5       5.356152          0.000000        0.000000  -3.665200 -13.569514  "
      ]
     },
     "execution_count": 12,
     "metadata": {},
     "output_type": "execute_result"
    }
   ],
   "source": [
    "#add UMAP values to CSV file UMAP was run on\n",
    "final = pd.concat([dat, dat_umap], axis=1)\n",
    "final.head()"
   ]
  },
  {
   "cell_type": "code",
   "execution_count": 13,
   "metadata": {
    "scrolled": true
   },
   "outputs": [
    {
     "data": {
      "text/html": [
       "<div>\n",
       "<style scoped>\n",
       "    .dataframe tbody tr th:only-of-type {\n",
       "        vertical-align: middle;\n",
       "    }\n",
       "\n",
       "    .dataframe tbody tr th {\n",
       "        vertical-align: top;\n",
       "    }\n",
       "\n",
       "    .dataframe thead th {\n",
       "        text-align: right;\n",
       "    }\n",
       "</style>\n",
       "<table border=\"1\" class=\"dataframe\">\n",
       "  <thead>\n",
       "    <tr style=\"text-align: right;\">\n",
       "      <th></th>\n",
       "      <th>89Y_CD45</th>\n",
       "      <th>142Ce_CD19</th>\n",
       "      <th>145Nd_CD4 (v)</th>\n",
       "      <th>146Nd_CD8a (v)</th>\n",
       "      <th>148Sm_CD14</th>\n",
       "      <th>170Yb_CD3</th>\n",
       "      <th>174Yb_HLA-DR (v)</th>\n",
       "      <th>209Bi_CD16 (v)</th>\n",
       "      <th>umap1</th>\n",
       "      <th>umap2</th>\n",
       "    </tr>\n",
       "    <tr>\n",
       "      <th>index</th>\n",
       "      <th></th>\n",
       "      <th></th>\n",
       "      <th></th>\n",
       "      <th></th>\n",
       "      <th></th>\n",
       "      <th></th>\n",
       "      <th></th>\n",
       "      <th></th>\n",
       "      <th></th>\n",
       "      <th></th>\n",
       "    </tr>\n",
       "  </thead>\n",
       "  <tbody>\n",
       "    <tr>\n",
       "      <th>1</th>\n",
       "      <td>7.048410</td>\n",
       "      <td>5.892170</td>\n",
       "      <td>0.485085</td>\n",
       "      <td>0.000000</td>\n",
       "      <td>0.000000</td>\n",
       "      <td>0.000000</td>\n",
       "      <td>7.111999</td>\n",
       "      <td>0.000000</td>\n",
       "      <td>11.213107</td>\n",
       "      <td>13.803534</td>\n",
       "    </tr>\n",
       "    <tr>\n",
       "      <th>2</th>\n",
       "      <td>5.361999</td>\n",
       "      <td>0.000000</td>\n",
       "      <td>0.000000</td>\n",
       "      <td>3.753984</td>\n",
       "      <td>0.000000</td>\n",
       "      <td>0.000000</td>\n",
       "      <td>0.000000</td>\n",
       "      <td>5.577402</td>\n",
       "      <td>7.793224</td>\n",
       "      <td>-7.897661</td>\n",
       "    </tr>\n",
       "    <tr>\n",
       "      <th>3</th>\n",
       "      <td>6.493701</td>\n",
       "      <td>0.000000</td>\n",
       "      <td>0.000000</td>\n",
       "      <td>1.492518</td>\n",
       "      <td>0.000000</td>\n",
       "      <td>2.673159</td>\n",
       "      <td>0.000000</td>\n",
       "      <td>4.627119</td>\n",
       "      <td>8.879310</td>\n",
       "      <td>-7.536781</td>\n",
       "    </tr>\n",
       "    <tr>\n",
       "      <th>4</th>\n",
       "      <td>6.687722</td>\n",
       "      <td>0.232481</td>\n",
       "      <td>2.205979</td>\n",
       "      <td>6.447762</td>\n",
       "      <td>0.179422</td>\n",
       "      <td>4.660582</td>\n",
       "      <td>1.483036</td>\n",
       "      <td>0.411967</td>\n",
       "      <td>-4.454239</td>\n",
       "      <td>-12.202549</td>\n",
       "    </tr>\n",
       "    <tr>\n",
       "      <th>5</th>\n",
       "      <td>6.983040</td>\n",
       "      <td>0.000000</td>\n",
       "      <td>0.000000</td>\n",
       "      <td>6.622299</td>\n",
       "      <td>0.000000</td>\n",
       "      <td>5.356152</td>\n",
       "      <td>0.000000</td>\n",
       "      <td>0.000000</td>\n",
       "      <td>-3.665200</td>\n",
       "      <td>-13.569514</td>\n",
       "    </tr>\n",
       "  </tbody>\n",
       "</table>\n",
       "</div>"
      ],
      "text/plain": [
       "       89Y_CD45  142Ce_CD19  145Nd_CD4 (v)  146Nd_CD8a (v)  148Sm_CD14  \\\n",
       "index                                                                    \n",
       "1      7.048410    5.892170       0.485085        0.000000    0.000000   \n",
       "2      5.361999    0.000000       0.000000        3.753984    0.000000   \n",
       "3      6.493701    0.000000       0.000000        1.492518    0.000000   \n",
       "4      6.687722    0.232481       2.205979        6.447762    0.179422   \n",
       "5      6.983040    0.000000       0.000000        6.622299    0.000000   \n",
       "\n",
       "       170Yb_CD3  174Yb_HLA-DR (v)  209Bi_CD16 (v)      umap1      umap2  \n",
       "index                                                                     \n",
       "1       0.000000          7.111999        0.000000  11.213107  13.803534  \n",
       "2       0.000000          0.000000        5.577402   7.793224  -7.897661  \n",
       "3       2.673159          0.000000        4.627119   8.879310  -7.536781  \n",
       "4       4.660582          1.483036        0.411967  -4.454239 -12.202549  \n",
       "5       5.356152          0.000000        0.000000  -3.665200 -13.569514  "
      ]
     },
     "execution_count": 13,
     "metadata": {},
     "output_type": "execute_result"
    }
   ],
   "source": [
    "#Drop any NaN values from the file. This should NOT be necessary if your indeces were lined up correctly. \n",
    "final_clean=pd.DataFrame(final.dropna(axis='rows'))\n",
    "final_clean.head()"
   ]
  },
  {
   "cell_type": "code",
   "execution_count": 14,
   "metadata": {},
   "outputs": [],
   "source": [
    "#write this file to CSV\n",
    "pd.DataFrame.to_csv(final_clean, \"cells_umap.csv\")"
   ]
  },
  {
   "cell_type": "code",
   "execution_count": 15,
   "metadata": {},
   "outputs": [
    {
     "data": {
      "text/plain": [
       "<matplotlib.collections.PathCollection at 0x23467977c50>"
      ]
     },
     "execution_count": 15,
     "metadata": {},
     "output_type": "execute_result"
    },
    {
     "data": {
      "image/png": "[encoded data removed]",
      "text/plain": [
       "<Figure size 360x360 with 1 Axes>"
      ]
     },
     "metadata": {},
     "output_type": "display_data"
    }
   ],
   "source": [
    "plt.scatter(final_clean['umap1'], final_clean['umap2'], s=10)"
   ]
  },
  {
   "cell_type": "code",
   "execution_count": 16,
   "metadata": {},
   "outputs": [
    {
     "data": {
      "text/plain": [
       "<matplotlib.collections.PathCollection at 0x234679c5668>"
      ]
     },
     "execution_count": 16,
     "metadata": {},
     "output_type": "execute_result"
    },
    {
     "data": {
      "image/png": "[encoded data removed]",
      "text/plain": [
       "<Figure size 360x360 with 1 Axes>"
      ]
     },
     "metadata": {},
     "output_type": "display_data"
    }
   ],
   "source": [
    "plt.scatter(final_clean['umap1'], final_clean['umap2'], c=final_clean['89Y_CD45'], s=10, cmap='Spectral')"
   ]
  },
  {
   "cell_type": "code",
   "execution_count": 17,
   "metadata": {},
   "outputs": [
    {
     "data": {
      "text/plain": [
       "<matplotlib.collections.PathCollection at 0x23466b17438>"
      ]
     },
     "execution_count": 17,
     "metadata": {},
     "output_type": "execute_result"
    },
    {
     "data": {
      "image/png": "[encoded data removed]",
      "text/plain": [
       "<Figure size 360x360 with 1 Axes>"
      ]
     },
     "metadata": {},
     "output_type": "display_data"
    }
   ],
   "source": [
    "plt.scatter(final_clean['umap1'], final_clean['umap2'], c=final_clean['142Ce_CD19'], s=10, cmap='Spectral')"
   ]
  },
  {
   "cell_type": "code",
   "execution_count": 18,
   "metadata": {},
   "outputs": [
    {
     "data": {
      "text/plain": [
       "<matplotlib.collections.PathCollection at 0x234684bb438>"
      ]
     },
     "execution_count": 18,
     "metadata": {},
     "output_type": "execute_result"
    },
    {
     "data": {
      "image/png": "[encoded data removed]",
      "text/plain": [
       "<Figure size 360x360 with 1 Axes>"
      ]
     },
     "metadata": {},
     "output_type": "display_data"
    }
   ],
   "source": [
    "plt.scatter(final_clean['umap1'], final_clean['umap2'], c=final_clean['145Nd_CD4 (v)'], s=10, cmap='Spectral')"
   ]
  },
  {
   "cell_type": "code",
   "execution_count": 19,
   "metadata": {},
   "outputs": [
    {
     "data": {
      "text/plain": [
       "<matplotlib.collections.PathCollection at 0x2346790b320>"
      ]
     },
     "execution_count": 19,
     "metadata": {},
     "output_type": "execute_result"
    },
    {
     "data": {
      "image/png": "[encoded data removed]",
      "text/plain": [
       "<Figure size 360x360 with 1 Axes>"
      ]
     },
     "metadata": {},
     "output_type": "display_data"
    }
   ],
   "source": [
    "plt.scatter(final_clean['umap1'], final_clean['umap2'], c=final_clean['146Nd_CD8a (v)'], s=10, cmap='Spectral')"
   ]
  },
  {
   "cell_type": "code",
   "execution_count": 20,
   "metadata": {},
   "outputs": [
    {
     "data": {
      "text/plain": [
       "<matplotlib.collections.PathCollection at 0x23466623208>"
      ]
     },
     "execution_count": 20,
     "metadata": {},
     "output_type": "execute_result"
    },
    {
     "data": {
      "image/png": "[encoded data removed]",
      "text/plain": [
       "<Figure size 360x360 with 1 Axes>"
      ]
     },
     "metadata": {},
     "output_type": "display_data"
    }
   ],
   "source": [
    "plt.scatter(final_clean['umap1'], final_clean['umap2'], c=final_clean['148Sm_CD14'], s=10, cmap='Spectral')"
   ]
  },
  {
   "cell_type": "code",
   "execution_count": 21,
   "metadata": {},
   "outputs": [
    {
     "data": {
      "text/plain": [
       "<matplotlib.collections.PathCollection at 0x23466992128>"
      ]
     },
     "execution_count": 21,
     "metadata": {},
     "output_type": "execute_result"
    },
    {
     "data": {
      "image/png": "[encoded data removed]",
      "text/plain": [
       "<Figure size 360x360 with 1 Axes>"
      ]
     },
     "metadata": {},
     "output_type": "display_data"
    }
   ],
   "source": [
    "plt.scatter(final_clean['umap1'], final_clean['umap2'], c=final_clean['170Yb_CD3'], s=10, cmap='Spectral')"
   ]
  },
  {
   "cell_type": "code",
   "execution_count": 22,
   "metadata": {},
   "outputs": [
    {
     "data": {
      "text/plain": [
       "<matplotlib.collections.PathCollection at 0x23467879f98>"
      ]
     },
     "execution_count": 22,
     "metadata": {},
     "output_type": "execute_result"
    },
    {
     "data": {
      "image/png": "[encoded data removed]",
      "text/plain": [
       "<Figure size 360x360 with 1 Axes>"
      ]
     },
     "metadata": {},
     "output_type": "display_data"
    }
   ],
   "source": [
    "plt.scatter(final_clean['umap1'], final_clean['umap2'], c=final_clean['174Yb_HLA-DR (v)'], s=10, cmap='Spectral')"
   ]
  },
  {
   "cell_type": "code",
   "execution_count": 23,
   "metadata": {},
   "outputs": [
    {
     "data": {
      "text/plain": [
       "<matplotlib.collections.PathCollection at 0x234669d69b0>"
      ]
     },
     "execution_count": 23,
     "metadata": {},
     "output_type": "execute_result"
    },
    {
     "data": {
      "image/png": "[encoded data removed]",
      "text/plain": [
       "<Figure size 360x360 with 1 Axes>"
      ]
     },
     "metadata": {},
     "output_type": "display_data"
    }
   ],
   "source": [
    "plt.scatter(final_clean['umap1'], final_clean['umap2'], c=final_clean['209Bi_CD16 (v)'], s=10, cmap='Spectral')"
   ]
  },
  {
   "cell_type": "code",
   "execution_count": 24,
   "metadata": {},
   "outputs": [],
   "source": [
    "import sklearn.cluster as cluster\n",
    "from sklearn.metrics import adjusted_rand_score, adjusted_mutual_info_score"
   ]
  },
  {
   "cell_type": "code",
   "execution_count": 33,
   "metadata": {},
   "outputs": [],
   "source": [
    "kmeans_labels = cluster.KMeans(n_clusters=5).fit_predict(final_clean)"
   ]
  },
  {
   "cell_type": "code",
   "execution_count": 34,
   "metadata": {},
   "outputs": [
    {
     "data": {
      "text/plain": [
       "<matplotlib.collections.PathCollection at 0x2346609f518>"
      ]
     },
     "execution_count": 34,
     "metadata": {},
     "output_type": "execute_result"
    },
    {
     "data": {
      "image/png": "[encoded data removed]",
      "text/plain": [
       "<Figure size 360x360 with 1 Axes>"
      ]
     },
     "metadata": {},
     "output_type": "display_data"
    }
   ],
   "source": [
    "plt.scatter(final_clean['umap1'], final_clean['umap2'], c=kmeans_labels, s=10, cmap='Spectral')"
   ]
  },
  {
   "cell_type": "code",
   "execution_count": 35,
   "metadata": {},
   "outputs": [],
   "source": [
    "dat_cluster = pd.DataFrame(kmeans_labels)"
   ]
  },
  {
   "cell_type": "code",
   "execution_count": 36,
   "metadata": {},
   "outputs": [
    {
     "data": {
      "text/html": [
       "<div>\n",
       "<style scoped>\n",
       "    .dataframe tbody tr th:only-of-type {\n",
       "        vertical-align: middle;\n",
       "    }\n",
       "\n",
       "    .dataframe tbody tr th {\n",
       "        vertical-align: top;\n",
       "    }\n",
       "\n",
       "    .dataframe thead th {\n",
       "        text-align: right;\n",
       "    }\n",
       "</style>\n",
       "<table border=\"1\" class=\"dataframe\">\n",
       "  <thead>\n",
       "    <tr style=\"text-align: right;\">\n",
       "      <th></th>\n",
       "      <th>cluster</th>\n",
       "    </tr>\n",
       "    <tr>\n",
       "      <th>index</th>\n",
       "      <th></th>\n",
       "    </tr>\n",
       "  </thead>\n",
       "  <tbody>\n",
       "    <tr>\n",
       "      <th>1</th>\n",
       "      <td>4</td>\n",
       "    </tr>\n",
       "    <tr>\n",
       "      <th>2</th>\n",
       "      <td>3</td>\n",
       "    </tr>\n",
       "    <tr>\n",
       "      <th>3</th>\n",
       "      <td>3</td>\n",
       "    </tr>\n",
       "    <tr>\n",
       "      <th>4</th>\n",
       "      <td>2</td>\n",
       "    </tr>\n",
       "    <tr>\n",
       "      <th>5</th>\n",
       "      <td>2</td>\n",
       "    </tr>\n",
       "  </tbody>\n",
       "</table>\n",
       "</div>"
      ],
      "text/plain": [
       "       cluster\n",
       "index         \n",
       "1            4\n",
       "2            3\n",
       "3            3\n",
       "4            2\n",
       "5            2"
      ]
     },
     "execution_count": 36,
     "metadata": {},
     "output_type": "execute_result"
    }
   ],
   "source": [
    "dat_cluster.index+=1;dat_cluster.index.name='index'\n",
    "dat_cluster.to_csv(\"cluster.csv\")\n",
    "dat_cluster = pd.read_csv(\"cluster.csv\", header = 0, index_col = 0)\n",
    "dat_cluster.columns = [\"cluster\"]\n",
    "dat_cluster.head()"
   ]
  },
  {
   "cell_type": "code",
   "execution_count": 37,
   "metadata": {},
   "outputs": [
    {
     "data": {
      "text/html": [
       "<div>\n",
       "<style scoped>\n",
       "    .dataframe tbody tr th:only-of-type {\n",
       "        vertical-align: middle;\n",
       "    }\n",
       "\n",
       "    .dataframe tbody tr th {\n",
       "        vertical-align: top;\n",
       "    }\n",
       "\n",
       "    .dataframe thead th {\n",
       "        text-align: right;\n",
       "    }\n",
       "</style>\n",
       "<table border=\"1\" class=\"dataframe\">\n",
       "  <thead>\n",
       "    <tr style=\"text-align: right;\">\n",
       "      <th></th>\n",
       "      <th>cluster</th>\n",
       "      <th>89Y_CD45</th>\n",
       "      <th>142Ce_CD19</th>\n",
       "      <th>145Nd_CD4 (v)</th>\n",
       "      <th>146Nd_CD8a (v)</th>\n",
       "      <th>148Sm_CD14</th>\n",
       "      <th>170Yb_CD3</th>\n",
       "      <th>174Yb_HLA-DR (v)</th>\n",
       "      <th>209Bi_CD16 (v)</th>\n",
       "      <th>umap1</th>\n",
       "      <th>umap2</th>\n",
       "    </tr>\n",
       "    <tr>\n",
       "      <th>index</th>\n",
       "      <th></th>\n",
       "      <th></th>\n",
       "      <th></th>\n",
       "      <th></th>\n",
       "      <th></th>\n",
       "      <th></th>\n",
       "      <th></th>\n",
       "      <th></th>\n",
       "      <th></th>\n",
       "      <th></th>\n",
       "      <th></th>\n",
       "    </tr>\n",
       "  </thead>\n",
       "  <tbody>\n",
       "    <tr>\n",
       "      <th>1</th>\n",
       "      <td>4</td>\n",
       "      <td>7.048410</td>\n",
       "      <td>5.892170</td>\n",
       "      <td>0.485085</td>\n",
       "      <td>0.000000</td>\n",
       "      <td>0.000000</td>\n",
       "      <td>0.000000</td>\n",
       "      <td>7.111999</td>\n",
       "      <td>0.000000</td>\n",
       "      <td>11.213107</td>\n",
       "      <td>13.803534</td>\n",
       "    </tr>\n",
       "    <tr>\n",
       "      <th>2</th>\n",
       "      <td>3</td>\n",
       "      <td>5.361999</td>\n",
       "      <td>0.000000</td>\n",
       "      <td>0.000000</td>\n",
       "      <td>3.753984</td>\n",
       "      <td>0.000000</td>\n",
       "      <td>0.000000</td>\n",
       "      <td>0.000000</td>\n",
       "      <td>5.577402</td>\n",
       "      <td>7.793224</td>\n",
       "      <td>-7.897661</td>\n",
       "    </tr>\n",
       "    <tr>\n",
       "      <th>3</th>\n",
       "      <td>3</td>\n",
       "      <td>6.493701</td>\n",
       "      <td>0.000000</td>\n",
       "      <td>0.000000</td>\n",
       "      <td>1.492518</td>\n",
       "      <td>0.000000</td>\n",
       "      <td>2.673159</td>\n",
       "      <td>0.000000</td>\n",
       "      <td>4.627119</td>\n",
       "      <td>8.879310</td>\n",
       "      <td>-7.536781</td>\n",
       "    </tr>\n",
       "    <tr>\n",
       "      <th>4</th>\n",
       "      <td>2</td>\n",
       "      <td>6.687722</td>\n",
       "      <td>0.232481</td>\n",
       "      <td>2.205979</td>\n",
       "      <td>6.447762</td>\n",
       "      <td>0.179422</td>\n",
       "      <td>4.660582</td>\n",
       "      <td>1.483036</td>\n",
       "      <td>0.411967</td>\n",
       "      <td>-4.454239</td>\n",
       "      <td>-12.202549</td>\n",
       "    </tr>\n",
       "    <tr>\n",
       "      <th>5</th>\n",
       "      <td>2</td>\n",
       "      <td>6.983040</td>\n",
       "      <td>0.000000</td>\n",
       "      <td>0.000000</td>\n",
       "      <td>6.622299</td>\n",
       "      <td>0.000000</td>\n",
       "      <td>5.356152</td>\n",
       "      <td>0.000000</td>\n",
       "      <td>0.000000</td>\n",
       "      <td>-3.665200</td>\n",
       "      <td>-13.569514</td>\n",
       "    </tr>\n",
       "  </tbody>\n",
       "</table>\n",
       "</div>"
      ],
      "text/plain": [
       "       cluster  89Y_CD45  142Ce_CD19  145Nd_CD4 (v)  146Nd_CD8a (v)  \\\n",
       "index                                                                 \n",
       "1            4  7.048410    5.892170       0.485085        0.000000   \n",
       "2            3  5.361999    0.000000       0.000000        3.753984   \n",
       "3            3  6.493701    0.000000       0.000000        1.492518   \n",
       "4            2  6.687722    0.232481       2.205979        6.447762   \n",
       "5            2  6.983040    0.000000       0.000000        6.622299   \n",
       "\n",
       "       148Sm_CD14  170Yb_CD3  174Yb_HLA-DR (v)  209Bi_CD16 (v)      umap1  \\\n",
       "index                                                                       \n",
       "1        0.000000   0.000000          7.111999        0.000000  11.213107   \n",
       "2        0.000000   0.000000          0.000000        5.577402   7.793224   \n",
       "3        0.000000   2.673159          0.000000        4.627119   8.879310   \n",
       "4        0.179422   4.660582          1.483036        0.411967  -4.454239   \n",
       "5        0.000000   5.356152          0.000000        0.000000  -3.665200   \n",
       "\n",
       "           umap2  \n",
       "index             \n",
       "1      13.803534  \n",
       "2      -7.897661  \n",
       "3      -7.536781  \n",
       "4     -12.202549  \n",
       "5     -13.569514  "
      ]
     },
     "execution_count": 37,
     "metadata": {},
     "output_type": "execute_result"
    }
   ],
   "source": [
    "cluster_final = pd.concat([dat_cluster, final_clean], axis=1)\n",
    "cluster_final.head()"
   ]
  },
  {
   "cell_type": "code",
   "execution_count": 38,
   "metadata": {},
   "outputs": [],
   "source": [
    "pd.DataFrame.to_csv(cluster_final, \"cells_umap_clustered.csv\")"
   ]
  },
  {
   "cell_type": "code",
   "execution_count": null,
   "metadata": {},
   "outputs": [],
   "source": []
  }
 ],
 "metadata": {
  "kernelspec": {
   "display_name": "Python 3",
   "language": "python",
   "name": "python3"
  },
  "language_info": {
   "codemirror_mode": {
    "name": "ipython",
    "version": 3
   },
   "file_extension": ".py",
   "mimetype": "text/x-python",
   "name": "python",
   "nbconvert_exporter": "python",
   "pygments_lexer": "ipython3",
   "version": "3.7.3"
  }
 },
 "nbformat": 4,
 "nbformat_minor": 2
}
